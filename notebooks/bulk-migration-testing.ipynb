{
 "cells": [
  {
   "cell_type": "markdown",
   "metadata": {},
   "source": [
    "# Bulk Migrate Instances"
   ]
  },
  {
   "cell_type": "markdown",
   "metadata": {},
   "source": [
    "## Get list of existing instance ids"
   ]
  },
  {
   "cell_type": "code",
   "execution_count": null,
   "metadata": {},
   "outputs": [],
   "source": [
    "import yaml\n",
    "import subprocess\n",
    "\n",
    "EXISTING_INSTANCE_IDS=[i['id'] for i in yaml.load(subprocess.check_output(\"ckan-cloud-operator deis-instance list --quick\", shell=True))]\n",
    "print(yaml.dump(EXISTING_INSTANCE_IDS, default_flow_style=False))"
   ]
  },
  {
   "cell_type": "markdown",
   "metadata": {},
   "source": [
    "## Duplicate all the existing instance ids with a prefix\n",
    "\n",
    "Set a prefix for the new instances"
   ]
  },
  {
   "cell_type": "code",
   "execution_count": null,
   "metadata": {},
   "outputs": [],
   "source": [
    "PREFIX = 'ori-test'"
   ]
  },
  {
   "cell_type": "markdown",
   "metadata": {},
   "source": [
    "Import all the existing instances to new instances with the given prefix\n",
    "\n",
    "You can follow the log in jupyter lab output"
   ]
  },
  {
   "cell_type": "code",
   "execution_count": null,
   "metadata": {},
   "outputs": [],
   "source": [
    "import subprocess\n",
    "\n",
    "for instance_id in EXISTING_INSTANCE_IDS:\n",
    "    subprocess.call(f'ckan-cloud-operator deis-instance delete {PREFIX}-{instance_id}', shell=True)\n",
    "    subprocess.call(f'ckan-cloud-operator deis-instance delete --force {PREFIX}-{instance_id}', shell=True)\n",
    "    subprocess.check_call(\n",
    "        f'ckan-cloud-operator deis-instance migrate {instance_id} {PREFIX}-{instance_id} production-1',\n",
    "        shell=True\n",
    "    )"
   ]
  },
  {
   "cell_type": "markdown",
   "metadata": {},
   "source": [
    "## Migrate a single instance\n",
    "\n",
    "set the instance id"
   ]
  },
  {
   "cell_type": "code",
   "execution_count": null,
   "metadata": {},
   "outputs": [],
   "source": [
    "OLD_INSTANCE_ID='aberdeen'\n",
    "NEW_INSTANCE_ID='ori-test-aberdeen'\n",
    "ROUTER_NAME='production-1'"
   ]
  },
  {
   "cell_type": "markdown",
   "metadata": {},
   "source": [
    "Delete the new instance (if it exists)"
   ]
  },
  {
   "cell_type": "code",
   "execution_count": null,
   "metadata": {},
   "outputs": [],
   "source": [
    "subprocess.call(\n",
    "    f'ckan-cloud-operator deis-instance delete {NEW_INSTANCE_ID}', \n",
    "    shell=True\n",
    "), subprocess.call(\n",
    "    f'ckan-cloud-operator deis-instance delete {NEW_INSTANCE_ID} --force',\n",
    "    shell=True\n",
    ")"
   ]
  },
  {
   "cell_type": "markdown",
   "metadata": {},
   "source": [
    "Migrate the instance"
   ]
  },
  {
   "cell_type": "code",
   "execution_count": null,
   "metadata": {},
   "outputs": [],
   "source": [
    "subprocess.check_call(\n",
    "        f'ckan-cloud-operator deis-instance migrate {OLD_INSTANCE_ID} {NEW_INSTANCE_ID} {ROUTER_NAME}',\n",
    "        shell=True\n",
    "    )"
   ]
  }
 ],
 "metadata": {
  "kernelspec": {
   "display_name": "Python 3",
   "language": "python",
   "name": "python3"
  },
  "language_info": {
   "codemirror_mode": {
    "name": "ipython",
    "version": 3
   },
   "file_extension": ".py",
   "mimetype": "text/x-python",
   "name": "python",
   "nbconvert_exporter": "python",
   "pygments_lexer": "ipython3",
   "version": "3.7.2"
  }
 },
 "nbformat": 4,
 "nbformat_minor": 2
}
