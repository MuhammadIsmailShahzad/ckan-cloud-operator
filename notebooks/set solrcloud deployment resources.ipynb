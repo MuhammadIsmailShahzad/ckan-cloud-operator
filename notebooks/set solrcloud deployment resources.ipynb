{
 "cells": [
  {
   "cell_type": "markdown",
   "metadata": {},
   "source": [
    "# Set CPU/Memory resource requirements for SolrCloud"
   ]
  },
  {
   "cell_type": "code",
   "execution_count": null,
   "metadata": {},
   "outputs": [],
   "source": [
    "import yaml\n",
    "import itertools\n",
    "from ckan_cloud_operator import kubectl\n",
    "\n",
    "old_pods = [pod for pod in kubectl.get('pod')['items'] if pod['metadata']['labels'].get('app') == 'provider-solr-solrcloud-sc']\n",
    "assert len(old_pods) == 3\n",
    "old_containers = [container for old_pod in old_pods for container in old_pod['spec']['containers']]\n",
    "assert len(old_containers) == 3"
   ]
  },
  {
   "cell_type": "code",
   "execution_count": null,
   "metadata": {},
   "outputs": [],
   "source": [
    "import yaml\n",
    "from IPython.core.display import HTML\n",
    "\n",
    "HTML('<h3>OLD RESOURECS</h3>' + yaml.dump([old_container['resources'] for old_container in old_containers], default_flow_style=False).replace(' ', '&nbsp;').replace('\\n','<br/>'))\n"
   ]
  },
  {
   "cell_type": "markdown",
   "metadata": {},
   "source": [
    "## Set new resources"
   ]
  },
  {
   "cell_type": "code",
   "execution_count": null,
   "metadata": {},
   "outputs": [],
   "source": [
    "import json\n",
    "from ckan_cloud_operator.config import manager as config_manager\n",
    "\n",
    "config_manager.set(\n",
    "    key='container-spec-overrides', \n",
    "    value=json.dumps({\n",
    "        \"resources\": {\n",
    "            \"requests\": {\n",
    "                \"cpu\": \"2\", \n",
    "                \"memory\": \"4Gi\"\n",
    "            },\n",
    "            \"limits\": {\n",
    "                \"cpu\": \"3\",\n",
    "                \"memory\": \"6Gi\"\n",
    "            }\n",
    "        }\n",
    "    }),\n",
    "    configmap_name='ckan-cloud-provider-solr-solrcloud-sc-config'\n",
    ")"
   ]
  },
  {
   "cell_type": "markdown",
   "metadata": {},
   "source": [
    "## Apply deployment: Dry Run"
   ]
  },
  {
   "cell_type": "code",
   "execution_count": null,
   "metadata": {},
   "outputs": [],
   "source": [
    "from ckan_cloud_operator.providers.solr.solrcloud import manager as solrcloud_manager\n",
    "\n",
    "solrcloud_manager.initialize(dry_run=True)"
   ]
  },
  {
   "cell_type": "markdown",
   "metadata": {},
   "source": [
    "## Apply Deployment\n",
    "\n",
    "For solrcloud, deployment must be handled manually, from an interactive terminal\n",
    "\n",
    "You can open a terminal in Jupyter Lab or elsewhere and run:\n",
    "\n",
    "Dry Run:\n",
    "\n",
    "```\n",
    "ckan-cloud-operator solr initialize --interactive --dry-run\n",
    "```\n",
    "\n",
    "Deploy interactively, only update the solrcloud pods:\n",
    "\n",
    "```\n",
    "ckan-cloud-operator solr initialize --interactive\n",
    "```\n",
    "\n",
    "While deployment is in progress, run the next step to check progress"
   ]
  },
  {
   "cell_type": "markdown",
   "metadata": {},
   "source": [
    "## Check deployment progress"
   ]
  },
  {
   "cell_type": "code",
   "execution_count": null,
   "metadata": {},
   "outputs": [],
   "source": [
    "import yaml\n",
    "from ckan_cloud_operator import kubectl\n",
    "\n",
    "pods = [pod for pod in kubectl.get('pod')['items'] if pod['metadata']['labels'].get('app') == 'provider-solr-solrcloud-sc']\n",
    "pod_names = [pod['metadata']['name'] for pod in pods]\n",
    "print(yaml.dump(pod_names, default_flow_style=False))\n",
    "\n",
    "[print(kubectl.check_output(f'describe pod {pod_name}').decode()) for pod_name in pod_names]"
   ]
  }
 ],
 "metadata": {
  "kernelspec": {
   "display_name": "Python 3",
   "language": "python",
   "name": "python3"
  },
  "language_info": {
   "codemirror_mode": {
    "name": "ipython",
    "version": 3
   },
   "file_extension": ".py",
   "mimetype": "text/x-python",
   "name": "python",
   "nbconvert_exporter": "python",
   "pygments_lexer": "ipython3",
   "version": "3.7.3"
  }
 },
 "nbformat": 4,
 "nbformat_minor": 2
}
